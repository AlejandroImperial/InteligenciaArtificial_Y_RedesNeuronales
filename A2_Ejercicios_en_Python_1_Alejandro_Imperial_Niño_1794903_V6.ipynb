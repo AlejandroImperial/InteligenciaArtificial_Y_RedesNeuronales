{
  "nbformat": 4,
  "nbformat_minor": 0,
  "metadata": {
    "colab": {
      "provenance": [],
      "collapsed_sections": [],
      "authorship_tag": "ABX9TyPPceWkyr039Sd3VGSUKqmX",
      "include_colab_link": true
    },
    "kernelspec": {
      "name": "python3",
      "display_name": "Python 3"
    },
    "language_info": {
      "name": "python"
    }
  },
  "cells": [
    {
      "cell_type": "markdown",
      "metadata": {
        "id": "view-in-github",
        "colab_type": "text"
      },
      "source": [
        "<a href=\"https://colab.research.google.com/github/AlejandroImperial/InteligenciaArtificial_Y_RedesNeuronales/blob/main/A2_Ejercicios_en_Python_1_Alejandro_Imperial_Ni%C3%B1o_1794903_V6.ipynb\" target=\"_parent\"><img src=\"https://colab.research.google.com/assets/colab-badge.svg\" alt=\"Open In Colab\"/></a>"
      ]
    },
    {
      "cell_type": "markdown",
      "source": [
        "\n",
        "\n",
        "> A2: Ejercicios en Python 1\n",
        "Alejandro Imperial Niño 1794903 V6\n",
        "\n"
      ],
      "metadata": {
        "id": "d5P7ZGKW5pB6"
      }
    },
    {
      "cell_type": "markdown",
      "source": [
        "Escribe un programa que le pida al usuario por su nombre y que lo salude con su nombre, excepto si se llama “Ana”, “Juan”, y “Pedro”. "
      ],
      "metadata": {
        "id": "U26Yk1xxVmkn"
      }
    },
    {
      "cell_type": "code",
      "execution_count": 23,
      "metadata": {
        "colab": {
          "base_uri": "https://localhost:8080/"
        },
        "id": "ciuaEAeG5S3e",
        "outputId": "d82b96df-1c6d-45ce-f12b-9013b85bdd16"
      },
      "outputs": [
        {
          "output_type": "stream",
          "name": "stdout",
          "text": [
            "Ingrese su Nombre\n",
            "Juan\n",
            "Bienvenido\n"
          ]
        }
      ],
      "source": [
        "print('Ingrese su Nombre')\n",
        "nombre=input()\n",
        "if (nombre=='Ana' or nombre == 'Pedro' or nombre== 'Juan'):\n",
        "    print('Bienvenido')\n",
        "else:\n",
        "  print('Bienvenido '+nombre)"
      ]
    },
    {
      "cell_type": "markdown",
      "source": [
        "Escribe una función que regrese el último elemento de una lista y que revierta el orden de la lista e imprima la lista revertida. "
      ],
      "metadata": {
        "id": "oy8CU5gfVqH9"
      }
    },
    {
      "cell_type": "code",
      "source": [
        "def ultimos():\n",
        "  lista=(1,2,3,4,5,6,7)\n",
        "  ultimo=lista[-1]\n",
        "  l=len(lista)\n",
        "  k=-1\n",
        "  i=0\n",
        "  nuevalista=[]\n",
        "  while i<l:\n",
        "      nuevalista.extend([lista[k]])\n",
        "      k=k-1\n",
        "      l=l-1\n",
        "  print('La lista invertida es: ')\n",
        "  print(nuevalista)\n",
        "  print('El ultimo numero es: ')\n",
        "  return ultimo\n",
        "\n",
        "res=ultimos()\n",
        "print(res)"
      ],
      "metadata": {
        "colab": {
          "base_uri": "https://localhost:8080/"
        },
        "id": "fCf8l1ZWVk08",
        "outputId": "64322113-991e-4237-9d3d-f616b0de1eca"
      },
      "execution_count": 93,
      "outputs": [
        {
          "output_type": "stream",
          "name": "stdout",
          "text": [
            "La lista invertida es: \n",
            "[7, 6, 5, 4, 3, 2, 1]\n",
            "El ultimo numero es: \n",
            "7\n"
          ]
        }
      ]
    },
    {
      "cell_type": "markdown",
      "source": [
        "Escribe una función que toma una lista de strings y los imprima línea por línea en un marco rectangular. "
      ],
      "metadata": {
        "id": "ZZFIYOyTi3P5"
      }
    },
    {
      "cell_type": "code",
      "source": [
        "def marco():\n",
        "  lista=('Hola','a','todos','esto','es','un','marco')\n",
        "  l=len(lista)\n",
        "  i=0\n",
        "  print('*************')\n",
        "  while i<l:\n",
        "   print('*' + lista[i]+ '*')\n",
        "   i=i+1\n",
        "  print('*************')\n",
        "  \n",
        "res=marco()\n",
        "print(res)\n",
        "\n",
        "\n"
      ],
      "metadata": {
        "colab": {
          "base_uri": "https://localhost:8080/"
        },
        "id": "6p7u_ghAi8W3",
        "outputId": "13895ae2-1264-4416-ff53-9ea0fc6453fd"
      },
      "execution_count": 99,
      "outputs": [
        {
          "output_type": "stream",
          "name": "stdout",
          "text": [
            "*************\n",
            "*Hola*\n",
            "*a*\n",
            "*todos*\n",
            "*esto*\n",
            "*es*\n",
            "*un*\n",
            "*marco*\n",
            "*************\n",
            "None\n"
          ]
        }
      ]
    }
  ]
}